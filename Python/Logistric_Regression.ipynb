{
 "cells": [
  {
   "cell_type": "markdown",
   "metadata": {},
   "source": [
    "### Import dữ liệu"
   ]
  },
  {
   "cell_type": "code",
   "execution_count": 1,
   "metadata": {
    "execution": {
     "iopub.execute_input": "2025-04-21T16:37:32.667214Z",
     "iopub.status.busy": "2025-04-21T16:37:32.666826Z",
     "iopub.status.idle": "2025-04-21T16:37:32.673151Z",
     "shell.execute_reply": "2025-04-21T16:37:32.671828Z",
     "shell.execute_reply.started": "2025-04-21T16:37:32.667185Z"
    },
    "trusted": true
   },
   "outputs": [],
   "source": [
    "import os\n",
    "import matplotlib.pyplot as plt\n",
    "import numpy as np\n",
    "import pandas as pd\n",
    "import matplotlib.pyplot as plt\n",
    "from sklearn.preprocessing import StandardScaler\n",
    "from sklearn.metrics import classification_report, confusion_matrix, mean_absolute_error, mean_squared_error, r2_score, accuracy_score\n",
    "import statsmodels.api as sm\n",
    "from sklearn.linear_model import LogisticRegression"
   ]
  },
  {
   "cell_type": "code",
   "execution_count": 2,
   "metadata": {
    "execution": {
     "iopub.execute_input": "2025-04-21T16:37:32.722002Z",
     "iopub.status.busy": "2025-04-21T16:37:32.721619Z",
     "iopub.status.idle": "2025-04-21T16:37:32.759619Z",
     "shell.execute_reply": "2025-04-21T16:37:32.758379Z",
     "shell.execute_reply.started": "2025-04-21T16:37:32.721951Z"
    },
    "trusted": true
   },
   "outputs": [],
   "source": [
    "df = pd.read_csv(\"META.csv\")"
   ]
  },
  {
   "cell_type": "code",
   "execution_count": 3,
   "metadata": {
    "execution": {
     "iopub.execute_input": "2025-04-21T16:37:32.762753Z",
     "iopub.status.busy": "2025-04-21T16:37:32.762318Z",
     "iopub.status.idle": "2025-04-21T16:37:32.777060Z",
     "shell.execute_reply": "2025-04-21T16:37:32.775420Z",
     "shell.execute_reply.started": "2025-04-21T16:37:32.762709Z"
    },
    "trusted": true
   },
   "outputs": [
    {
     "name": "stdout",
     "output_type": "stream",
     "text": [
      "<class 'pandas.core.frame.DataFrame'>\n",
      "RangeIndex: 3235 entries, 0 to 3234\n",
      "Data columns (total 6 columns):\n",
      " #   Column  Non-Null Count  Dtype  \n",
      "---  ------  --------------  -----  \n",
      " 0   Date    3235 non-null   object \n",
      " 1   Open    3235 non-null   float64\n",
      " 2   High    3235 non-null   float64\n",
      " 3   Low     3235 non-null   float64\n",
      " 4   Close   3235 non-null   float64\n",
      " 5   Volume  3235 non-null   int64  \n",
      "dtypes: float64(4), int64(1), object(1)\n",
      "memory usage: 151.8+ KB\n"
     ]
    }
   ],
   "source": [
    "df.info()"
   ]
  },
  {
   "cell_type": "code",
   "execution_count": 4,
   "metadata": {
    "execution": {
     "iopub.execute_input": "2025-04-21T16:37:32.779107Z",
     "iopub.status.busy": "2025-04-21T16:37:32.778788Z",
     "iopub.status.idle": "2025-04-21T16:37:32.820003Z",
     "shell.execute_reply": "2025-04-21T16:37:32.818836Z",
     "shell.execute_reply.started": "2025-04-21T16:37:32.779082Z"
    },
    "trusted": true
   },
   "outputs": [
    {
     "data": {
      "text/html": [
       "<div>\n",
       "<style scoped>\n",
       "    .dataframe tbody tr th:only-of-type {\n",
       "        vertical-align: middle;\n",
       "    }\n",
       "\n",
       "    .dataframe tbody tr th {\n",
       "        vertical-align: top;\n",
       "    }\n",
       "\n",
       "    .dataframe thead th {\n",
       "        text-align: right;\n",
       "    }\n",
       "</style>\n",
       "<table border=\"1\" class=\"dataframe\">\n",
       "  <thead>\n",
       "    <tr style=\"text-align: right;\">\n",
       "      <th></th>\n",
       "      <th>Open</th>\n",
       "      <th>High</th>\n",
       "      <th>Low</th>\n",
       "      <th>Close</th>\n",
       "      <th>Volume</th>\n",
       "    </tr>\n",
       "  </thead>\n",
       "  <tbody>\n",
       "    <tr>\n",
       "      <th>count</th>\n",
       "      <td>3235.000000</td>\n",
       "      <td>3235.000000</td>\n",
       "      <td>3235.000000</td>\n",
       "      <td>3235.000000</td>\n",
       "      <td>3.235000e+03</td>\n",
       "    </tr>\n",
       "    <tr>\n",
       "      <th>mean</th>\n",
       "      <td>193.443694</td>\n",
       "      <td>195.943246</td>\n",
       "      <td>190.956360</td>\n",
       "      <td>193.502589</td>\n",
       "      <td>2.909967e+07</td>\n",
       "    </tr>\n",
       "    <tr>\n",
       "      <th>std</th>\n",
       "      <td>143.066907</td>\n",
       "      <td>144.874230</td>\n",
       "      <td>141.119185</td>\n",
       "      <td>143.033983</td>\n",
       "      <td>2.560959e+07</td>\n",
       "    </tr>\n",
       "    <tr>\n",
       "      <th>min</th>\n",
       "      <td>18.011199</td>\n",
       "      <td>18.200477</td>\n",
       "      <td>17.483216</td>\n",
       "      <td>17.662531</td>\n",
       "      <td>4.726100e+06</td>\n",
       "    </tr>\n",
       "    <tr>\n",
       "      <th>25%</th>\n",
       "      <td>89.836829</td>\n",
       "      <td>90.872874</td>\n",
       "      <td>88.790826</td>\n",
       "      <td>90.145649</td>\n",
       "      <td>1.539615e+07</td>\n",
       "    </tr>\n",
       "    <tr>\n",
       "      <th>50%</th>\n",
       "      <td>166.733080</td>\n",
       "      <td>168.805154</td>\n",
       "      <td>164.561384</td>\n",
       "      <td>167.041885</td>\n",
       "      <td>2.153170e+07</td>\n",
       "    </tr>\n",
       "    <tr>\n",
       "      <th>75%</th>\n",
       "      <td>259.752764</td>\n",
       "      <td>264.295407</td>\n",
       "      <td>256.734303</td>\n",
       "      <td>260.335510</td>\n",
       "      <td>3.319535e+07</td>\n",
       "    </tr>\n",
       "    <tr>\n",
       "      <th>max</th>\n",
       "      <td>736.000000</td>\n",
       "      <td>740.909973</td>\n",
       "      <td>725.619995</td>\n",
       "      <td>736.669983</td>\n",
       "      <td>5.735764e+08</td>\n",
       "    </tr>\n",
       "  </tbody>\n",
       "</table>\n",
       "</div>"
      ],
      "text/plain": [
       "              Open         High          Low        Close        Volume\n",
       "count  3235.000000  3235.000000  3235.000000  3235.000000  3.235000e+03\n",
       "mean    193.443694   195.943246   190.956360   193.502589  2.909967e+07\n",
       "std     143.066907   144.874230   141.119185   143.033983  2.560959e+07\n",
       "min      18.011199    18.200477    17.483216    17.662531  4.726100e+06\n",
       "25%      89.836829    90.872874    88.790826    90.145649  1.539615e+07\n",
       "50%     166.733080   168.805154   164.561384   167.041885  2.153170e+07\n",
       "75%     259.752764   264.295407   256.734303   260.335510  3.319535e+07\n",
       "max     736.000000   740.909973   725.619995   736.669983  5.735764e+08"
      ]
     },
     "execution_count": 4,
     "metadata": {},
     "output_type": "execute_result"
    }
   ],
   "source": [
    "df.describe()"
   ]
  },
  {
   "cell_type": "markdown",
   "metadata": {},
   "source": [
    "### Trực quan hóa các cột giá trị có trong data "
   ]
  },
  {
   "cell_type": "code",
   "execution_count": 104,
   "metadata": {
    "execution": {
     "iopub.execute_input": "2025-04-21T16:37:32.821392Z",
     "iopub.status.busy": "2025-04-21T16:37:32.821060Z",
     "iopub.status.idle": "2025-04-21T16:37:32.826931Z",
     "shell.execute_reply": "2025-04-21T16:37:32.825756Z",
     "shell.execute_reply.started": "2025-04-21T16:37:32.821364Z"
    },
    "trusted": true
   },
   "outputs": [],
   "source": [
    "# df.set_index('Date', inplace=True)\n",
    "# df['Date'] = pd.to_datetime(df['Date'], format = '%y-%m-%d')"
   ]
  },
  {
   "cell_type": "code",
   "execution_count": 5,
   "metadata": {
    "execution": {
     "iopub.execute_input": "2025-04-21T16:37:32.828514Z",
     "iopub.status.busy": "2025-04-21T16:37:32.828114Z",
     "iopub.status.idle": "2025-04-21T16:37:33.208010Z",
     "shell.execute_reply": "2025-04-21T16:37:33.206686Z",
     "shell.execute_reply.started": "2025-04-21T16:37:32.828486Z"
    },
    "trusted": true
   },
   "outputs": [
    {
     "data": {
      "text/plain": [
       "<Axes: title={'center': 'close'}>"
      ]
     },
     "execution_count": 5,
     "metadata": {},
     "output_type": "execute_result"
    },
    {
     "data": {
      "image/png": "[encoded data removed]",
      "text/plain": [
       "<Figure size 800x600 with 1 Axes>"
      ]
     },
     "metadata": {},
     "output_type": "display_data"
    }
   ],
   "source": [
    "df['Close'].plot(label='meta stock price data', figsize=(8,6), title ='close')"
   ]
  },
  {
   "cell_type": "markdown",
   "metadata": {},
   "source": [
    "### Dự đoán giá cổ phiếu\n",
    "Dùng dữ liệu từ ngày 18/05/2022 đến ngày 29/07/2022 để dự đoán giá cổ phiếu từ ngày 01/08/2022 đến ngày 19/02/2025"
   ]
  },
  {
   "cell_type": "code",
   "execution_count": 6,
   "metadata": {
    "execution": {
     "iopub.execute_input": "2025-04-21T16:37:33.209558Z",
     "iopub.status.busy": "2025-04-21T16:37:33.209145Z",
     "iopub.status.idle": "2025-04-21T16:37:33.216096Z",
     "shell.execute_reply": "2025-04-21T16:37:33.214833Z",
     "shell.execute_reply.started": "2025-04-21T16:37:33.209508Z"
    },
    "trusted": true
   },
   "outputs": [],
   "source": [
    "def evaluate_model(y_test, y_pred):\n",
    "    mae = mean_absolute_error(y_test, y_pred)\n",
    "    mse = mean_squared_error(y_test, y_pred)\n",
    "    rmse = np.sqrt(mse)\n",
    "    r2 = r2_score(y_test, y_pred)\n",
    "    mape = np.mean(np.abs((y_test - y_pred) / y_test)) * 100\n",
    "    \n",
    "    print(f\"R^2 Score: {r2:.4f}\")\n",
    "    print(f\"MSE: {mse:.4f}\")\n",
    "    print(f\"MAE: {mae:.4f}\")\n",
    "    print(f\"RMSE: {rmse:.4f}\")\n",
    "    print(f\"MAPE: {mape:.2f}%\")"
   ]
  },
  {
   "cell_type": "code",
   "execution_count": 7,
   "metadata": {
    "execution": {
     "iopub.execute_input": "2025-04-21T16:37:33.217895Z",
     "iopub.status.busy": "2025-04-21T16:37:33.217357Z",
     "iopub.status.idle": "2025-04-21T16:37:33.241927Z",
     "shell.execute_reply": "2025-04-21T16:37:33.240839Z",
     "shell.execute_reply.started": "2025-04-21T16:37:33.217861Z"
    },
    "trusted": true
   },
   "outputs": [],
   "source": [
    "data_train = df[:2566].copy()\n",
    "data_test = df[2566:].copy()"
   ]
  },
  {
   "cell_type": "code",
   "execution_count": 8,
   "metadata": {
    "execution": {
     "iopub.execute_input": "2025-04-21T16:37:33.245837Z",
     "iopub.status.busy": "2025-04-21T16:37:33.245476Z",
     "iopub.status.idle": "2025-04-21T16:37:33.275857Z",
     "shell.execute_reply": "2025-04-21T16:37:33.274195Z",
     "shell.execute_reply.started": "2025-04-21T16:37:33.245809Z"
    },
    "trusted": true
   },
   "outputs": [],
   "source": [
    "X_train = data_train[['Volume', 'High', 'Low', 'Open']]\n",
    "y_train = data_train['Close'].values\n",
    "\n",
    "X_test = data_test[['Volume', 'High', 'Low', 'Open']] \n",
    "y_test = data_test['Close'].values\n"
   ]
  },
  {
   "cell_type": "code",
   "execution_count": 9,
   "metadata": {
    "execution": {
     "iopub.execute_input": "2025-04-21T16:37:33.278790Z",
     "iopub.status.busy": "2025-04-21T16:37:33.278174Z",
     "iopub.status.idle": "2025-04-21T16:37:33.308292Z",
     "shell.execute_reply": "2025-04-21T16:37:33.306840Z",
     "shell.execute_reply.started": "2025-04-21T16:37:33.278703Z"
    },
    "trusted": true
   },
   "outputs": [
    {
     "data": {
      "text/html": [
       "<style>#sk-container-id-1 {\n",
       "  /* Definition of color scheme common for light and dark mode */\n",
       "  --sklearn-color-text: black;\n",
       "  --sklearn-color-line: gray;\n",
       "  /* Definition of color scheme for unfitted estimators */\n",
       "  --sklearn-color-unfitted-level-0: #fff5e6;\n",
       "  --sklearn-color-unfitted-level-1: #f6e4d2;\n",
       "  --sklearn-color-unfitted-level-2: #ffe0b3;\n",
       "  --sklearn-color-unfitted-level-3: chocolate;\n",
       "  /* Definition of color scheme for fitted estimators */\n",
       "  --sklearn-color-fitted-level-0: #f0f8ff;\n",
       "  --sklearn-color-fitted-level-1: #d4ebff;\n",
       "  --sklearn-color-fitted-level-2: #b3dbfd;\n",
       "  --sklearn-color-fitted-level-3: cornflowerblue;\n",
       "\n",
       "  /* Specific color for light theme */\n",
       "  --sklearn-color-text-on-default-background: var(--sg-text-color, var(--theme-code-foreground, var(--jp-content-font-color1, black)));\n",
       "  --sklearn-color-background: var(--sg-background-color, var(--theme-background, var(--jp-layout-color0, white)));\n",
       "  --sklearn-color-border-box: var(--sg-text-color, var(--theme-code-foreground, var(--jp-content-font-color1, black)));\n",
       "  --sklearn-color-icon: #696969;\n",
       "\n",
       "  @media (prefers-color-scheme: dark) {\n",
       "    /* Redefinition of color scheme for dark theme */\n",
       "    --sklearn-color-text-on-default-background: var(--sg-text-color, var(--theme-code-foreground, var(--jp-content-font-color1, white)));\n",
       "    --sklearn-color-background: var(--sg-background-color, var(--theme-background, var(--jp-layout-color0, #111)));\n",
       "    --sklearn-color-border-box: var(--sg-text-color, var(--theme-code-foreground, var(--jp-content-font-color1, white)));\n",
       "    --sklearn-color-icon: #878787;\n",
       "  }\n",
       "}\n",
       "\n",
       "#sk-container-id-1 {\n",
       "  color: var(--sklearn-color-text);\n",
       "}\n",
       "\n",
       "#sk-container-id-1 pre {\n",
       "  padding: 0;\n",
       "}\n",
       "\n",
       "#sk-container-id-1 input.sk-hidden--visually {\n",
       "  border: 0;\n",
       "  clip: rect(1px 1px 1px 1px);\n",
       "  clip: rect(1px, 1px, 1px, 1px);\n",
       "  height: 1px;\n",
       "  margin: -1px;\n",
       "  overflow: hidden;\n",
       "  padding: 0;\n",
       "  position: absolute;\n",
       "  width: 1px;\n",
       "}\n",
       "\n",
       "#sk-container-id-1 div.sk-dashed-wrapped {\n",
       "  border: 1px dashed var(--sklearn-color-line);\n",
       "  margin: 0 0.4em 0.5em 0.4em;\n",
       "  box-sizing: border-box;\n",
       "  padding-bottom: 0.4em;\n",
       "  background-color: var(--sklearn-color-background);\n",
       "}\n",
       "\n",
       "#sk-container-id-1 div.sk-container {\n",
       "  /* jupyter's `normalize.less` sets `[hidden] { display: none; }`\n",
       "     but bootstrap.min.css set `[hidden] { display: none !important; }`\n",
       "     so we also need the `!important` here to be able to override the\n",
       "     default hidden behavior on the sphinx rendered scikit-learn.org.\n",
       "     See: https://github.com/scikit-learn/scikit-learn/issues/21755 */\n",
       "  display: inline-block !important;\n",
       "  position: relative;\n",
       "}\n",
       "\n",
       "#sk-container-id-1 div.sk-text-repr-fallback {\n",
       "  display: none;\n",
       "}\n",
       "\n",
       "div.sk-parallel-item,\n",
       "div.sk-serial,\n",
       "div.sk-item {\n",
       "  /* draw centered vertical line to link estimators */\n",
       "  background-image: linear-gradient(var(--sklearn-color-text-on-default-background), var(--sklearn-color-text-on-default-background));\n",
       "  background-size: 2px 100%;\n",
       "  background-repeat: no-repeat;\n",
       "  background-position: center center;\n",
       "}\n",
       "\n",
       "/* Parallel-specific style estimator block */\n",
       "\n",
       "#sk-container-id-1 div.sk-parallel-item::after {\n",
       "  content: \"\";\n",
       "  width: 100%;\n",
       "  border-bottom: 2px solid var(--sklearn-color-text-on-default-background);\n",
       "  flex-grow: 1;\n",
       "}\n",
       "\n",
       "#sk-container-id-1 div.sk-parallel {\n",
       "  display: flex;\n",
       "  align-items: stretch;\n",
       "  justify-content: center;\n",
       "  background-color: var(--sklearn-color-background);\n",
       "  position: relative;\n",
       "}\n",
       "\n",
       "#sk-container-id-1 div.sk-parallel-item {\n",
       "  display: flex;\n",
       "  flex-direction: column;\n",
       "}\n",
       "\n",
       "#sk-container-id-1 div.sk-parallel-item:first-child::after {\n",
       "  align-self: flex-end;\n",
       "  width: 50%;\n",
       "}\n",
       "\n",
       "#sk-container-id-1 div.sk-parallel-item:last-child::after {\n",
       "  align-self: flex-start;\n",
       "  width: 50%;\n",
       "}\n",
       "\n",
       "#sk-container-id-1 div.sk-parallel-item:only-child::after {\n",
       "  width: 0;\n",
       "}\n",
       "\n",
       "/* Serial-specific style estimator block */\n",
       "\n",
       "#sk-container-id-1 div.sk-serial {\n",
       "  display: flex;\n",
       "  flex-direction: column;\n",
       "  align-items: center;\n",
       "  background-color: var(--sklearn-color-background);\n",
       "  padding-right: 1em;\n",
       "  padding-left: 1em;\n",
       "}\n",
       "\n",
       "\n",
       "/* Toggleable style: style used for estimator/Pipeline/ColumnTransformer box that is\n",
       "clickable and can be expanded/collapsed.\n",
       "- Pipeline and ColumnTransformer use this feature and define the default style\n",
       "- Estimators will overwrite some part of the style using the `sk-estimator` class\n",
       "*/\n",
       "\n",
       "/* Pipeline and ColumnTransformer style (default) */\n",
       "\n",
       "#sk-container-id-1 div.sk-toggleable {\n",
       "  /* Default theme specific background. It is overwritten whether we have a\n",
       "  specific estimator or a Pipeline/ColumnTransformer */\n",
       "  background-color: var(--sklearn-color-background);\n",
       "}\n",
       "\n",
       "/* Toggleable label */\n",
       "#sk-container-id-1 label.sk-toggleable__label {\n",
       "  cursor: pointer;\n",
       "  display: block;\n",
       "  width: 100%;\n",
       "  margin-bottom: 0;\n",
       "  padding: 0.5em;\n",
       "  box-sizing: border-box;\n",
       "  text-align: center;\n",
       "}\n",
       "\n",
       "#sk-container-id-1 label.sk-toggleable__label-arrow:before {\n",
       "  /* Arrow on the left of the label */\n",
       "  content: \"▸\";\n",
       "  float: left;\n",
       "  margin-right: 0.25em;\n",
       "  color: var(--sklearn-color-icon);\n",
       "}\n",
       "\n",
       "#sk-container-id-1 label.sk-toggleable__label-arrow:hover:before {\n",
       "  color: var(--sklearn-color-text);\n",
       "}\n",
       "\n",
       "/* Toggleable content - dropdown */\n",
       "\n",
       "#sk-container-id-1 div.sk-toggleable__content {\n",
       "  max-height: 0;\n",
       "  max-width: 0;\n",
       "  overflow: hidden;\n",
       "  text-align: left;\n",
       "  /* unfitted */\n",
       "  background-color: var(--sklearn-color-unfitted-level-0);\n",
       "}\n",
       "\n",
       "#sk-container-id-1 div.sk-toggleable__content.fitted {\n",
       "  /* fitted */\n",
       "  background-color: var(--sklearn-color-fitted-level-0);\n",
       "}\n",
       "\n",
       "#sk-container-id-1 div.sk-toggleable__content pre {\n",
       "  margin: 0.2em;\n",
       "  border-radius: 0.25em;\n",
       "  color: var(--sklearn-color-text);\n",
       "  /* unfitted */\n",
       "  background-color: var(--sklearn-color-unfitted-level-0);\n",
       "}\n",
       "\n",
       "#sk-container-id-1 div.sk-toggleable__content.fitted pre {\n",
       "  /* unfitted */\n",
       "  background-color: var(--sklearn-color-fitted-level-0);\n",
       "}\n",
       "\n",
       "#sk-container-id-1 input.sk-toggleable__control:checked~div.sk-toggleable__content {\n",
       "  /* Expand drop-down */\n",
       "  max-height: 200px;\n",
       "  max-width: 100%;\n",
       "  overflow: auto;\n",
       "}\n",
       "\n",
       "#sk-container-id-1 input.sk-toggleable__control:checked~label.sk-toggleable__label-arrow:before {\n",
       "  content: \"▾\";\n",
       "}\n",
       "\n",
       "/* Pipeline/ColumnTransformer-specific style */\n",
       "\n",
       "#sk-container-id-1 div.sk-label input.sk-toggleable__control:checked~label.sk-toggleable__label {\n",
       "  color: var(--sklearn-color-text);\n",
       "  background-color: var(--sklearn-color-unfitted-level-2);\n",
       "}\n",
       "\n",
       "#sk-container-id-1 div.sk-label.fitted input.sk-toggleable__control:checked~label.sk-toggleable__label {\n",
       "  background-color: var(--sklearn-color-fitted-level-2);\n",
       "}\n",
       "\n",
       "/* Estimator-specific style */\n",
       "\n",
       "/* Colorize estimator box */\n",
       "#sk-container-id-1 div.sk-estimator input.sk-toggleable__control:checked~label.sk-toggleable__label {\n",
       "  /* unfitted */\n",
       "  background-color: var(--sklearn-color-unfitted-level-2);\n",
       "}\n",
       "\n",
       "#sk-container-id-1 div.sk-estimator.fitted input.sk-toggleable__control:checked~label.sk-toggleable__label {\n",
       "  /* fitted */\n",
       "  background-color: var(--sklearn-color-fitted-level-2);\n",
       "}\n",
       "\n",
       "#sk-container-id-1 div.sk-label label.sk-toggleable__label,\n",
       "#sk-container-id-1 div.sk-label label {\n",
       "  /* The background is the default theme color */\n",
       "  color: var(--sklearn-color-text-on-default-background);\n",
       "}\n",
       "\n",
       "/* On hover, darken the color of the background */\n",
       "#sk-container-id-1 div.sk-label:hover label.sk-toggleable__label {\n",
       "  color: var(--sklearn-color-text);\n",
       "  background-color: var(--sklearn-color-unfitted-level-2);\n",
       "}\n",
       "\n",
       "/* Label box, darken color on hover, fitted */\n",
       "#sk-container-id-1 div.sk-label.fitted:hover label.sk-toggleable__label.fitted {\n",
       "  color: var(--sklearn-color-text);\n",
       "  background-color: var(--sklearn-color-fitted-level-2);\n",
       "}\n",
       "\n",
       "/* Estimator label */\n",
       "\n",
       "#sk-container-id-1 div.sk-label label {\n",
       "  font-family: monospace;\n",
       "  font-weight: bold;\n",
       "  display: inline-block;\n",
       "  line-height: 1.2em;\n",
       "}\n",
       "\n",
       "#sk-container-id-1 div.sk-label-container {\n",
       "  text-align: center;\n",
       "}\n",
       "\n",
       "/* Estimator-specific */\n",
       "#sk-container-id-1 div.sk-estimator {\n",
       "  font-family: monospace;\n",
       "  border: 1px dotted var(--sklearn-color-border-box);\n",
       "  border-radius: 0.25em;\n",
       "  box-sizing: border-box;\n",
       "  margin-bottom: 0.5em;\n",
       "  /* unfitted */\n",
       "  background-color: var(--sklearn-color-unfitted-level-0);\n",
       "}\n",
       "\n",
       "#sk-container-id-1 div.sk-estimator.fitted {\n",
       "  /* fitted */\n",
       "  background-color: var(--sklearn-color-fitted-level-0);\n",
       "}\n",
       "\n",
       "/* on hover */\n",
       "#sk-container-id-1 div.sk-estimator:hover {\n",
       "  /* unfitted */\n",
       "  background-color: var(--sklearn-color-unfitted-level-2);\n",
       "}\n",
       "\n",
       "#sk-container-id-1 div.sk-estimator.fitted:hover {\n",
       "  /* fitted */\n",
       "  background-color: var(--sklearn-color-fitted-level-2);\n",
       "}\n",
       "\n",
       "/* Specification for estimator info (e.g. \"i\" and \"?\") */\n",
       "\n",
       "/* Common style for \"i\" and \"?\" */\n",
       "\n",
       ".sk-estimator-doc-link,\n",
       "a:link.sk-estimator-doc-link,\n",
       "a:visited.sk-estimator-doc-link {\n",
       "  float: right;\n",
       "  font-size: smaller;\n",
       "  line-height: 1em;\n",
       "  font-family: monospace;\n",
       "  background-color: var(--sklearn-color-background);\n",
       "  border-radius: 1em;\n",
       "  height: 1em;\n",
       "  width: 1em;\n",
       "  text-decoration: none !important;\n",
       "  margin-left: 1ex;\n",
       "  /* unfitted */\n",
       "  border: var(--sklearn-color-unfitted-level-1) 1pt solid;\n",
       "  color: var(--sklearn-color-unfitted-level-1);\n",
       "}\n",
       "\n",
       ".sk-estimator-doc-link.fitted,\n",
       "a:link.sk-estimator-doc-link.fitted,\n",
       "a:visited.sk-estimator-doc-link.fitted {\n",
       "  /* fitted */\n",
       "  border: var(--sklearn-color-fitted-level-1) 1pt solid;\n",
       "  color: var(--sklearn-color-fitted-level-1);\n",
       "}\n",
       "\n",
       "/* On hover */\n",
       "div.sk-estimator:hover .sk-estimator-doc-link:hover,\n",
       ".sk-estimator-doc-link:hover,\n",
       "div.sk-label-container:hover .sk-estimator-doc-link:hover,\n",
       ".sk-estimator-doc-link:hover {\n",
       "  /* unfitted */\n",
       "  background-color: var(--sklearn-color-unfitted-level-3);\n",
       "  color: var(--sklearn-color-background);\n",
       "  text-decoration: none;\n",
       "}\n",
       "\n",
       "div.sk-estimator.fitted:hover .sk-estimator-doc-link.fitted:hover,\n",
       ".sk-estimator-doc-link.fitted:hover,\n",
       "div.sk-label-container:hover .sk-estimator-doc-link.fitted:hover,\n",
       ".sk-estimator-doc-link.fitted:hover {\n",
       "  /* fitted */\n",
       "  background-color: var(--sklearn-color-fitted-level-3);\n",
       "  color: var(--sklearn-color-background);\n",
       "  text-decoration: none;\n",
       "}\n",
       "\n",
       "/* Span, style for the box shown on hovering the info icon */\n",
       ".sk-estimator-doc-link span {\n",
       "  display: none;\n",
       "  z-index: 9999;\n",
       "  position: relative;\n",
       "  font-weight: normal;\n",
       "  right: .2ex;\n",
       "  padding: .5ex;\n",
       "  margin: .5ex;\n",
       "  width: min-content;\n",
       "  min-width: 20ex;\n",
       "  max-width: 50ex;\n",
       "  color: var(--sklearn-color-text);\n",
       "  box-shadow: 2pt 2pt 4pt #999;\n",
       "  /* unfitted */\n",
       "  background: var(--sklearn-color-unfitted-level-0);\n",
       "  border: .5pt solid var(--sklearn-color-unfitted-level-3);\n",
       "}\n",
       "\n",
       ".sk-estimator-doc-link.fitted span {\n",
       "  /* fitted */\n",
       "  background: var(--sklearn-color-fitted-level-0);\n",
       "  border: var(--sklearn-color-fitted-level-3);\n",
       "}\n",
       "\n",
       ".sk-estimator-doc-link:hover span {\n",
       "  display: block;\n",
       "}\n",
       "\n",
       "/* \"?\"-specific style due to the `<a>` HTML tag */\n",
       "\n",
       "#sk-container-id-1 a.estimator_doc_link {\n",
       "  float: right;\n",
       "  font-size: 1rem;\n",
       "  line-height: 1em;\n",
       "  font-family: monospace;\n",
       "  background-color: var(--sklearn-color-background);\n",
       "  border-radius: 1rem;\n",
       "  height: 1rem;\n",
       "  width: 1rem;\n",
       "  text-decoration: none;\n",
       "  /* unfitted */\n",
       "  color: var(--sklearn-color-unfitted-level-1);\n",
       "  border: var(--sklearn-color-unfitted-level-1) 1pt solid;\n",
       "}\n",
       "\n",
       "#sk-container-id-1 a.estimator_doc_link.fitted {\n",
       "  /* fitted */\n",
       "  border: var(--sklearn-color-fitted-level-1) 1pt solid;\n",
       "  color: var(--sklearn-color-fitted-level-1);\n",
       "}\n",
       "\n",
       "/* On hover */\n",
       "#sk-container-id-1 a.estimator_doc_link:hover {\n",
       "  /* unfitted */\n",
       "  background-color: var(--sklearn-color-unfitted-level-3);\n",
       "  color: var(--sklearn-color-background);\n",
       "  text-decoration: none;\n",
       "}\n",
       "\n",
       "#sk-container-id-1 a.estimator_doc_link.fitted:hover {\n",
       "  /* fitted */\n",
       "  background-color: var(--sklearn-color-fitted-level-3);\n",
       "}\n",
       "</style><div id=\"sk-container-id-1\" class=\"sk-top-container\"><div class=\"sk-text-repr-fallback\"><pre>LinearRegression()</pre><b>In a Jupyter environment, please rerun this cell to show the HTML representation or trust the notebook. <br />On GitHub, the HTML representation is unable to render, please try loading this page with nbviewer.org.</b></div><div class=\"sk-container\" hidden><div class=\"sk-item\"><div class=\"sk-estimator fitted sk-toggleable\"><input class=\"sk-toggleable__control sk-hidden--visually\" id=\"sk-estimator-id-1\" type=\"checkbox\" checked><label for=\"sk-estimator-id-1\" class=\"sk-toggleable__label fitted sk-toggleable__label-arrow fitted\">&nbsp;&nbsp;LinearRegression<a class=\"sk-estimator-doc-link fitted\" rel=\"noreferrer\" target=\"_blank\" href=\"https://scikit-learn.org/1.5/modules/generated/sklearn.linear_model.LinearRegression.html\">?<span>Documentation for LinearRegression</span></a><span class=\"sk-estimator-doc-link fitted\">i<span>Fitted</span></span></label><div class=\"sk-toggleable__content fitted\"><pre>LinearRegression()</pre></div> </div></div></div></div>"
      ],
      "text/plain": [
       "LinearRegression()"
      ]
     },
     "execution_count": 9,
     "metadata": {},
     "output_type": "execute_result"
    }
   ],
   "source": [
    "from sklearn.linear_model import LinearRegression\n",
    "clfreg = LinearRegression()\n",
    "clfreg.fit(X_train, y_train)"
   ]
  },
  {
   "cell_type": "code",
   "execution_count": 10,
   "metadata": {
    "execution": {
     "iopub.execute_input": "2025-04-21T16:37:33.310490Z",
     "iopub.status.busy": "2025-04-21T16:37:33.310058Z",
     "iopub.status.idle": "2025-04-21T16:37:33.335897Z",
     "shell.execute_reply": "2025-04-21T16:37:33.334559Z",
     "shell.execute_reply.started": "2025-04-21T16:37:33.310451Z"
    },
    "trusted": true
   },
   "outputs": [
    {
     "name": "stdout",
     "output_type": "stream",
     "text": [
      "R^2 Score: 0.9997\n",
      "MSE: 9.0265\n",
      "MAE: 2.2003\n",
      "RMSE: 3.0044\n",
      "MAPE: 0.64%\n"
     ]
    }
   ],
   "source": [
    "y_pred = clfreg.predict(X_test)\n",
    "\n",
    "evaluate_model(y_test, y_pred)\n"
   ]
  },
  {
   "cell_type": "code",
   "execution_count": 11,
   "metadata": {
    "execution": {
     "iopub.execute_input": "2025-04-21T16:37:33.337370Z",
     "iopub.status.busy": "2025-04-21T16:37:33.336980Z",
     "iopub.status.idle": "2025-04-21T16:37:33.675727Z",
     "shell.execute_reply": "2025-04-21T16:37:33.674670Z",
     "shell.execute_reply.started": "2025-04-21T16:37:33.337327Z"
    },
    "trusted": true
   },
   "outputs": [
    {
     "data": {
      "image/png": "[encoded data removed]",
      "text/plain": [
       "<Figure size 800x600 with 1 Axes>"
      ]
     },
     "metadata": {},
     "output_type": "display_data"
    }
   ],
   "source": [
    "plt.figure(figsize=(8, 6))\n",
    "\n",
    "data_test = data_test.copy()\n",
    "data_test['Predictions'] = y_pred\n",
    "\n",
    "plt.plot(data_train['Close'], label='Train')\n",
    "plt.plot(data_test['Close'], label='Actual')\n",
    "plt.plot(data_test['Predictions'], label='Predictions')\n",
    "\n",
    "\n",
    "plt.legend(loc='lower right')\n",
    "plt.title(\"Dự đoán giá Close bằng Linear Regression\")\n",
    "plt.xlabel(\"Ngày\")\n",
    "plt.ylabel(\"Giá Close\")\n",
    "plt.grid(True)\n",
    "plt.show()"
   ]
  },
  {
   "cell_type": "markdown",
   "metadata": {},
   "source": [
    "### Dự đoán xu hướng giá cổ phiếu\n",
    "Dùng dữ liệu từ ngày 18/05/2022 đến ngày 29/07/2022 để dự đoán giá đóng cửa tăng hay giảm từ ngày 01/08/2022 đến ngày 19/02/2025"
   ]
  },
  {
   "cell_type": "code",
   "execution_count": 12,
   "metadata": {
    "execution": {
     "iopub.execute_input": "2025-04-21T16:37:33.677100Z",
     "iopub.status.busy": "2025-04-21T16:37:33.676729Z",
     "iopub.status.idle": "2025-04-21T16:37:33.686155Z",
     "shell.execute_reply": "2025-04-21T16:37:33.684784Z",
     "shell.execute_reply.started": "2025-04-21T16:37:33.677064Z"
    },
    "trusted": true
   },
   "outputs": [],
   "source": [
    "n = 30\n",
    "# So sánh giá của ngày hôm nay so với ngày mai\n",
    "df['Target'] = (df['Close'] < df['Close'].shift(-n)).astype(int) \n",
    "df.dropna(inplace=True)"
   ]
  },
  {
   "cell_type": "code",
   "execution_count": 13,
   "metadata": {
    "execution": {
     "iopub.execute_input": "2025-04-21T16:37:33.687791Z",
     "iopub.status.busy": "2025-04-21T16:37:33.687390Z",
     "iopub.status.idle": "2025-04-21T16:37:33.703128Z",
     "shell.execute_reply": "2025-04-21T16:37:33.701882Z",
     "shell.execute_reply.started": "2025-04-21T16:37:33.687737Z"
    },
    "trusted": true
   },
   "outputs": [],
   "source": [
    "df = df.iloc[:-30]"
   ]
  },
  {
   "cell_type": "code",
   "execution_count": 14,
   "metadata": {
    "execution": {
     "iopub.execute_input": "2025-04-21T16:37:33.704458Z",
     "iopub.status.busy": "2025-04-21T16:37:33.704129Z",
     "iopub.status.idle": "2025-04-21T16:37:33.727385Z",
     "shell.execute_reply": "2025-04-21T16:37:33.726226Z",
     "shell.execute_reply.started": "2025-04-21T16:37:33.704430Z"
    },
    "trusted": true
   },
   "outputs": [],
   "source": [
    "X = df[['Open', 'High', 'Low', 'Close', 'Volume']]\n",
    "y = df['Target']\n",
    "\n",
    "X_with_intercept = sm.add_constant(X)"
   ]
  },
  {
   "cell_type": "code",
   "execution_count": 15,
   "metadata": {
    "execution": {
     "iopub.execute_input": "2025-04-21T16:37:33.728839Z",
     "iopub.status.busy": "2025-04-21T16:37:33.728477Z",
     "iopub.status.idle": "2025-04-21T16:37:33.760693Z",
     "shell.execute_reply": "2025-04-21T16:37:33.759544Z",
     "shell.execute_reply.started": "2025-04-21T16:37:33.728800Z"
    },
    "trusted": true
   },
   "outputs": [
    {
     "name": "stdout",
     "output_type": "stream",
     "text": [
      "Optimization terminated successfully.\n",
      "         Current function value: 0.650855\n",
      "         Iterations 4\n",
      "                           Logit Regression Results                           \n",
      "==============================================================================\n",
      "Dep. Variable:                 Target   No. Observations:                 3205\n",
      "Model:                          Logit   Df Residuals:                     3199\n",
      "Method:                           MLE   Df Model:                            5\n",
      "Date:                Wed, 23 Apr 2025   Pseudo R-squ.:                0.001202\n",
      "Time:                        22:29:35   Log-Likelihood:                -2086.0\n",
      "converged:                       True   LL-Null:                       -2088.5\n",
      "Covariance Type:            nonrobust   LLR p-value:                    0.4134\n",
      "==============================================================================\n",
      "                 coef    std err          z      P>|z|      [0.025      0.975]\n",
      "------------------------------------------------------------------------------\n",
      "const          0.5902      0.095      6.217      0.000       0.404       0.776\n",
      "Open           0.0296      0.021      1.425      0.154      -0.011       0.070\n",
      "High          -0.0305      0.023     -1.328      0.184      -0.076       0.015\n",
      "Low           -0.0001      0.024     -0.006      0.995      -0.047       0.047\n",
      "Close          0.0013      0.022      0.059      0.953      -0.041       0.044\n",
      "Volume      1.036e-09   1.69e-09      0.612      0.541   -2.28e-09    4.35e-09\n",
      "==============================================================================\n"
     ]
    }
   ],
   "source": [
    "model = sm.Logit(y, X_with_intercept)\n",
    "result = model.fit()\n",
    "\n",
    "print(result.summary())"
   ]
  },
  {
   "cell_type": "code",
   "execution_count": 16,
   "metadata": {
    "execution": {
     "iopub.execute_input": "2025-04-21T16:37:33.761841Z",
     "iopub.status.busy": "2025-04-21T16:37:33.761573Z",
     "iopub.status.idle": "2025-04-21T16:37:33.767462Z",
     "shell.execute_reply": "2025-04-21T16:37:33.766108Z",
     "shell.execute_reply.started": "2025-04-21T16:37:33.761818Z"
    },
    "trusted": true
   },
   "outputs": [],
   "source": [
    "data_train = df[:2565].copy()\n",
    "data_test = df[2565:].copy()"
   ]
  },
  {
   "cell_type": "markdown",
   "metadata": {},
   "source": [
    "Sử dụng Logistic Regression"
   ]
  },
  {
   "cell_type": "code",
   "execution_count": 17,
   "metadata": {
    "execution": {
     "iopub.execute_input": "2025-04-21T16:37:33.768714Z",
     "iopub.status.busy": "2025-04-21T16:37:33.768417Z",
     "iopub.status.idle": "2025-04-21T16:37:33.790803Z",
     "shell.execute_reply": "2025-04-21T16:37:33.789660Z",
     "shell.execute_reply.started": "2025-04-21T16:37:33.768686Z"
    },
    "trusted": true
   },
   "outputs": [],
   "source": [
    "X_train = data_train.drop(columns=['Target','Date']) \n",
    "y_train = data_train['Target'].values \n",
    "\n",
    "X_test = data_test.drop(columns=['Target','Date'])\n",
    "y_test = data_test['Target'].values"
   ]
  },
  {
   "cell_type": "code",
   "execution_count": 18,
   "metadata": {
    "execution": {
     "iopub.execute_input": "2025-04-21T16:37:33.791985Z",
     "iopub.status.busy": "2025-04-21T16:37:33.791687Z",
     "iopub.status.idle": "2025-04-21T16:37:33.816030Z",
     "shell.execute_reply": "2025-04-21T16:37:33.814693Z",
     "shell.execute_reply.started": "2025-04-21T16:37:33.791957Z"
    },
    "trusted": true
   },
   "outputs": [],
   "source": [
    "scaler = StandardScaler()\n",
    "X_train = scaler.fit_transform(X_train)\n",
    "X_test = scaler.transform(X_test)"
   ]
  },
  {
   "cell_type": "code",
   "execution_count": 19,
   "metadata": {
    "execution": {
     "iopub.execute_input": "2025-04-21T17:02:10.075120Z",
     "iopub.status.busy": "2025-04-21T17:02:10.074682Z",
     "iopub.status.idle": "2025-04-21T17:02:10.087484Z",
     "shell.execute_reply": "2025-04-21T17:02:10.086367Z",
     "shell.execute_reply.started": "2025-04-21T17:02:10.075086Z"
    },
    "trusted": true
   },
   "outputs": [],
   "source": [
    "model = LogisticRegression(C=0.001, max_iter=1000)\n",
    "model.fit(X_train, y_train)\n",
    "\n",
    "y_pred = model.predict(X_test)"
   ]
  },
  {
   "cell_type": "code",
   "execution_count": 20,
   "metadata": {
    "execution": {
     "iopub.execute_input": "2025-04-21T17:02:10.089276Z",
     "iopub.status.busy": "2025-04-21T17:02:10.088924Z",
     "iopub.status.idle": "2025-04-21T17:02:10.120339Z",
     "shell.execute_reply": "2025-04-21T17:02:10.118951Z",
     "shell.execute_reply.started": "2025-04-21T17:02:10.089227Z"
    },
    "trusted": true
   },
   "outputs": [
    {
     "name": "stdout",
     "output_type": "stream",
     "text": [
      "Accuracy: 0.5938\n",
      "Classification Report:\n",
      "              precision    recall  f1-score   support\n",
      "\n",
      "           0       0.34      0.48      0.40       177\n",
      "           1       0.76      0.64      0.69       463\n",
      "\n",
      "    accuracy                           0.59       640\n",
      "   macro avg       0.55      0.56      0.54       640\n",
      "weighted avg       0.64      0.59      0.61       640\n",
      "\n"
     ]
    }
   ],
   "source": [
    "print(\"Accuracy:\", round(accuracy_score(y_test, y_pred), 4))\n",
    "\n",
    "print(\"Classification Report:\")\n",
    "print(classification_report(y_test, y_pred))"
   ]
  }
 ],
 "metadata": {
  "kaggle": {
   "accelerator": "none",
   "dataSources": [
    {
     "datasetId": 6707959,
     "sourceId": 10806713,
     "sourceType": "datasetVersion"
    },
    {
     "datasetId": 7193074,
     "sourceId": 11476910,
     "sourceType": "datasetVersion"
    }
   ],
   "dockerImageVersionId": 30918,
   "isGpuEnabled": false,
   "isInternetEnabled": false,
   "language": "python",
   "sourceType": "notebook"
  },
  "kernelspec": {
   "display_name": "Python 3",
   "language": "python",
   "name": "python3"
  },
  "language_info": {
   "codemirror_mode": {
    "name": "ipython",
    "version": 3
   },
   "file_extension": ".py",
   "mimetype": "text/x-python",
   "name": "python",
   "nbconvert_exporter": "python",
   "pygments_lexer": "ipython3",
   "version": "3.12.2"
  }
 },
 "nbformat": 4,
 "nbformat_minor": 4
}
